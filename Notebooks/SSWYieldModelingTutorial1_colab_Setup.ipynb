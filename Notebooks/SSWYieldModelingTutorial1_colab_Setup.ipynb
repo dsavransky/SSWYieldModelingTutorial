{
 "cells": [
  {
   "cell_type": "markdown",
   "metadata": {},
   "source": [
    "This notebook is for setting up the Google Colab environment to run the tutorial materials.  Execute each of the cells in turn, or Run all using the Runtime menu. \n",
    "\n",
    "Original code by Melanie Swain"
   ]
  },
  {
   "cell_type": "code",
   "execution_count": null,
   "metadata": {
    "id": "5T9b5v8PA0Zb"
   },
   "outputs": [],
   "source": [
    "# You will be prompted to Permit this notebook to access your Google Drive files - Click on \"Connect to Google Drive\"\n",
    "# You will then be prompted to Choose an account - click on your preferred Google account\n",
    "# You will then confirm that Google Drive for desktop wants to access your Google Account - scroll to click \"Allow\"\n",
    "# You may need to allow all permissions for this to work (click 'Allow All')\n",
    "from google.colab import drive\n",
    "drive.mount(\"/content/drive\")"
   ]
  },
  {
   "cell_type": "code",
   "execution_count": null,
   "metadata": {
    "id": "e6SXstULA89I"
   },
   "outputs": [],
   "source": [
    "# If you update the directory in the box on the right, re-run this cell\n",
    "ssw_dir = 'SSW2024' #@param {type:\"string\"}"
   ]
  },
  {
   "cell_type": "code",
   "execution_count": null,
   "metadata": {
    "id": "gra2cAEQBCcQ"
   },
   "outputs": [],
   "source": [
    "# Download the SSWYieldModelingTutorial\n",
    "# If this cell results in a message like \"fatal: destination path...already exists\"\n",
    "# Don't worry - that just means that you've already run this before.\n",
    "import os\n",
    "\n",
    "# Google top level drive dir\n",
    "drive_dir = \"/content/drive/MyDrive/\"\n",
    "\n",
    "# ssw directory path\n",
    "ssw_path = os.path.join(drive_dir, ssw_dir)\n",
    "\n",
    "# Create the ssw_path directory\n",
    "try:\n",
    "    os.makedirs(ssw_path, exist_ok = True)\n",
    "    print(\"Directory '%s' created successfully\" %ssw_path)\n",
    "except OSError as error:\n",
    "    print(\"Directory '%s' can not be created\")\n",
    "\n",
    "# Change to the ssw_path\n",
    "os.chdir(ssw_path)\n",
    "\n",
    "# Download SSWYieldModelingTutorial\n",
    "!git clone --depth 1 https://github.com/dsavransky/SSWYieldModelingTutorial"
   ]
  },
  {
   "cell_type": "markdown",
   "metadata": {},
   "source": [
    "# [Open the Tutorial](<https://colab.research.google.com/github/dsavransky/SSWYieldModelingTutorial/blob/main/Notebooks/SSWYieldModelingTutorial1.ipynb>)"
   ]
  },
  {
   "cell_type": "code",
   "execution_count": null,
   "metadata": {},
   "outputs": [],
   "source": []
  }
 ],
 "metadata": {
  "colab": {
   "provenance": [],
   "toc_visible": true
  },
  "kernelspec": {
   "display_name": "Python 3 (ipykernel)",
   "language": "python",
   "name": "python3"
  },
  "language_info": {
   "codemirror_mode": {
    "name": "ipython",
    "version": 3
   },
   "file_extension": ".py",
   "mimetype": "text/x-python",
   "name": "python",
   "nbconvert_exporter": "python",
   "pygments_lexer": "ipython3",
   "version": "3.11.7"
  }
 },
 "nbformat": 4,
 "nbformat_minor": 4
}
