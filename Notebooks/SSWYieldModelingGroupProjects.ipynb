{
 "cells": [
  {
   "cell_type": "markdown",
   "id": "1aea6cf9-afff-4cca-84b9-9a7c27e37b7a",
   "metadata": {},
   "source": [
    "# Yield Modeling Group Projects\n",
    "Dmitry Savransky (Cornell) and Rhonda Morgan (JPL)\n",
    "\n",
    "Run the [SSW2024_YieldModelingTutorial1_Setup](https://colab.research.google.com/github/dsavransky/SSWYieldModelingTutorial/blob/main/Notebooks/SSW2024_YieldModelingTutorial1_Setup.ipynb) notebook to download the data. The setup notebook needs to just be run **once** once. If you have already run it for Hands-on Session IV, you do not need to run it again."
   ]
  },
  {
   "cell_type": "markdown",
   "id": "7d8a2c90-f15c-45bb-94c6-8ff017e4b06f",
   "metadata": {
    "id": "ZcSPl-Cka3Wa"
   },
   "source": [
    "## Google Colab Usage\n",
    "*Please read (don't just hit run) the information given above each code cell as there are separate install cells for Colab*\n",
    "&#128992;\n",
    "*and running Python on your computer*\n",
    "&#128309;.\n",
    "\n",
    "**Confirm login account**\n",
    "* Please make sure to be logged in with the Google account you want to use for the exercises before running the code cells below. You can check by clicking the circular account icon in the top right corner of the colab notebook.\n",
    "\n",
    "**Working directory**\n",
    "* Note: The software and data will be installed in a directory called \"SSW2024/SSWYieldModelingTutorial\" in your Google drive. This directory will be created if it does not exist.\n",
    "\n",
    "**Running cells**\n",
    "* Run cells individually by clicking on the triangle on each cell\n",
    "\n",
    "**To Restart runtime**\n",
    "*   Click on Runtime menu item\n",
    "*   Select Restart session\n",
    "*   Select Run code cells individually from the top\n",
    "\n",
    "**To Recreate runtime**\n",
    "*   Click on Runtime menu item\n",
    "*   Select Disconnect and Delete runtime\n",
    "*   Select Run code cells individually from the top\n",
    "\n",
    "**To Exit:**\n",
    "*   Close the browser window"
   ]
  },
  {
   "cell_type": "markdown",
   "id": "f749c623-2496-4a22-8ddd-40f83a43b3e1",
   "metadata": {
    "id": "add1c8e0-e4d9-41bf-80a8-ae1884ae397e"
   },
   "source": [
    "# How to Use This Notebook\n",
    "\n",
    "This notebook includes descriptions for two hands-on projects based on the content of the Yield Modeling Tutorial.  For both projects, you must first run the setup cells below. The two projects are independent of one another.  You can do one or the other, or try both, in any order.  If you are feeling very ambitious, you can even try combining the two."
   ]
  },
  {
   "cell_type": "markdown",
   "id": "efcb3671-5367-4ea6-84bc-9262bf1f2dfa",
   "metadata": {
    "id": "kOGZXwQ3bBt-"
   },
   "source": [
    "## &#128992; Setup Google Drive directory"
   ]
  },
  {
   "cell_type": "markdown",
   "id": "3654186e-6876-4c55-ba06-dc7210c99220",
   "metadata": {
    "id": "lKTP9aUCbCJE"
   },
   "source": [
    "#### &#128992; **Run the next cell to mount the Google Drive**"
   ]
  },
  {
   "cell_type": "code",
   "execution_count": null,
   "id": "eceb9b74-15aa-4655-95da-d10e9ff4dadc",
   "metadata": {
    "id": "_J6JDFZUbI-k"
   },
   "outputs": [],
   "source": [
    "# You will be prompted to Permit this notebook to access your Google Drive files - Click on \"Connect to Google Drive\"\n",
    "# You will then be prompted to Choose an account - click on your preferred Google account\n",
    "# You will then confirm that Google Drive for desktop wants to access your Google Account - scroll to click \"Continue\"\n",
    "# You may get another prompt to allow additional access for this to work - scroll to click \"Continue\"\n",
    "\n",
    "from google.colab import drive\n",
    "drive.mount('/content/drive')"
   ]
  },
  {
   "cell_type": "markdown",
   "id": "232badd7-a6b3-4554-9bab-cb2f0203f3c3",
   "metadata": {
    "id": "cEpRmRIfbMis"
   },
   "source": [
    "#### &#128992; **Run the next cell to define the Yield_Modeling directory that was created in the Yield Modeling Setup Noteobook**"
   ]
  },
  {
   "cell_type": "code",
   "execution_count": null,
   "id": "a6a94e16-2f50-48c5-826d-752d0a3c30e9",
   "metadata": {
    "id": "sFwVl1Z0bP3u"
   },
   "outputs": [],
   "source": [
    "# This cell should *only* be executed if running the notebook in Google Colab\n",
    "# SSW Yield Modeling Tutorial\n",
    "ym_dir = 'SSW2024/Yield_Modeling' #@param {type:\"string\"}"
   ]
  },
  {
   "cell_type": "markdown",
   "id": "3559a265-196e-4066-8159-add6d4e5cba9",
   "metadata": {
    "id": "VguVKE-obVLy"
   },
   "source": [
    "#### &#128992; **Run the next cell to change to the YieldModelingTutorial directory and install the tutorial and then change directory back to Yield_Modeling**"
   ]
  },
  {
   "cell_type": "code",
   "execution_count": null,
   "id": "67466bd3-0c3f-46cc-abfa-29bf737680a1",
   "metadata": {
    "id": "DBntQLYvbaoO"
   },
   "outputs": [],
   "source": [
    "# This cell should *only* be executed if running the notebook in Google Colab\n",
    "# Create the YMT_dir directory in drive\n",
    "import os\n",
    "\n",
    "# Google top level drive dir\n",
    "drive_dir = \"/content/drive/MyDrive/\"\n",
    "\n",
    "# YM_dir directory path\n",
    "ym_path = os.path.join(drive_dir, ym_dir)\n",
    "\n",
    "# YMT_dir\n",
    "YMT_dir = \"SSWYieldModelingTutorial\"\n",
    "\n",
    "# YMT_path\n",
    "YMT_path = os.path.join(ym_path, YMT_dir)\n",
    "\n",
    "# Change to the YMT_path\n",
    "os.chdir(YMT_path)\n",
    "\n",
    "# Install the tutorial backend and requirements - this can also take a little while\n",
    "!pip install -e .\n",
    "\n",
    "# Refresh package list to pick up new installations\n",
    "import site\n",
    "site.main()"
   ]
  },
  {
   "cell_type": "markdown",
   "id": "3571262b-5ebe-4886-8425-8755e3fc6955",
   "metadata": {
    "id": "r8On4Kufbj4d"
   },
   "source": [
    "## &#128992; Import jupyter widget for Colab\n",
    "\n",
    "**Run the next cell**"
   ]
  },
  {
   "cell_type": "code",
   "execution_count": null,
   "id": "61e23cc6-67f2-4e0b-a206-9f5b7e4417ee",
   "metadata": {
    "id": "Iu85wz45brWA"
   },
   "outputs": [],
   "source": [
    "# need to import third party jupyter widget\n",
    "from google.colab import output\n",
    "output.enable_custom_widget_manager()"
   ]
  },
  {
   "cell_type": "markdown",
   "id": "87eb1c1c-a9cb-44b0-b802-a2476ec5d808",
   "metadata": {
    "id": "ROyRKwIdb7td"
   },
   "source": [
    "#  &#128992;  &#128309;  The rest of the notebook is for Colab or Python"
   ]
  },
  {
   "cell_type": "code",
   "execution_count": null,
   "id": "6d74d94d-cd8d-453e-9c37-007955fa1c62",
   "metadata": {
    "id": "1ab5c793-5b0c-4705-a2f5-0dabf71e09e0"
   },
   "outputs": [],
   "source": [
    "# All users should execute all cells starting with this one\n",
    "# Ensure that you are working in the Notebooks directory of the tutorial\n",
    "import os\n",
    "import pkgutil\n",
    "codedir = os.path.split(pkgutil.get_loader(\"SSWYieldModelingTutorial\").get_filename())[0]\n",
    "notebookdir = os.path.abspath(os.path.join(codedir, '..', 'Notebooks'))\n",
    "assert os.path.exists(notebookdir), \"Tutorial Notebooks directory not found.\"\n",
    "os.chdir(notebookdir)"
   ]
  },
  {
   "cell_type": "markdown",
   "id": "4b010ec2-9e1d-44c3-a909-a73e1c7c9666",
   "metadata": {
    "id": "29aff47f-b7db-4cbd-921d-d0cdbccea78c"
   },
   "source": [
    "# Tutorial Setup"
   ]
  },
  {
   "cell_type": "code",
   "execution_count": null,
   "id": "0be89d1e-0f18-4b71-8ce7-ff7ffdb6ced9",
   "metadata": {
    "id": "57cf2f58-23a9-4477-8644-b83234b62816"
   },
   "outputs": [],
   "source": [
    "# This is the start of the tutorial.\n",
    "# import all required modules\n",
    "# add any of your own imports here\n",
    "import matplotlib.pyplot as plt\n",
    "import astropy.units as u\n",
    "import numpy as np\n",
    "from SSWYieldModelingTutorial import SSWYieldModelingTutorial"
   ]
  },
  {
   "cell_type": "code",
   "execution_count": null,
   "id": "f349f2e0-ee0b-4c5c-a984-fc1c8032b5f9",
   "metadata": {
    "id": "c9bc93ca-0b34-41e5-828d-6b40f7eb8f55"
   },
   "outputs": [],
   "source": [
    "# set up plotting\n",
    "%matplotlib widget\n",
    "plt.rcParams.update({'figure.max_open_warning': 0})"
   ]
  },
  {
   "cell_type": "code",
   "execution_count": null,
   "id": "ebb115b2-a51d-4c75-990f-c129f5f53120",
   "metadata": {},
   "outputs": [],
   "source": []
  },
  {
   "cell_type": "markdown",
   "id": "375ab621-cb46-42e3-9990-c8a278908ca1",
   "metadata": {},
   "source": [
    "# Project 1: Time Allocation Optimization\n",
    "\n",
    "In this project, our goal is to maximize the summed completeness of an observing program by allocating integration times to some subset of our target list.  The formal problem statement is as follows: given a set of $N$ targets, a maximum total available time $t_\\mathrm{max}$, and an overhead time rate of $f_\\mathrm{overhead}$ (this is the fraction of the time you spend integrating on each target that goes towards overhead activities and cannot be counted towards your science integration time), find a set of integration times $\\{t_i\\}_{i=1}^N$ that maximizes the accumulated total completeness, such that the sum of all integration times, setup times, and overheads is less than or equal to $t_\\mathrm{max}$.  Note that while we are nominally assigning integration times to all of the targets in our target list, some of these may be zero (meaning that we do not observe those targets at all).  The overhead times apply *only* to those targets with non-zero integration times.   \n",
    "\n",
    "The mathematical version of the problem statement is:\n",
    "$$\\arg \\max_{\\{t_i\\}} \\left(\\sum_{i}^n c_i(t_i)\\right)$$ \n",
    "subject to:\n",
    "$$t_\\mathrm{max} - \\sum_{i}^n t_i\\left(1+f_\\mathrm{overhead}\\right) \\ge 0 $$\n",
    "\n",
    "For our input parameters, we will use many of the building blocks developed in the tutorial. \n",
    "\n",
    "1. We will use the HWO mission star list as our initial target list:"
   ]
  },
  {
   "cell_type": "code",
   "execution_count": null,
   "id": "3435cc04-61f6-47ab-88ce-0b78bacd6725",
   "metadata": {},
   "outputs": [],
   "source": [
    "targets = SSWYieldModelingTutorial.load_HWO_MissionStars()"
   ]
  },
  {
   "cell_type": "markdown",
   "id": "cc6ed533-f9c0-4780-aaea-b87d4e5b304e",
   "metadata": {},
   "source": [
    "2. We will assume the same Earth-like planet population and use the pre-computed completeness PDF: "
   ]
  },
  {
   "cell_type": "code",
   "execution_count": null,
   "id": "35641be8-9fc7-4658-b1fd-a414164728b2",
   "metadata": {},
   "outputs": [],
   "source": [
    "Cpdf, sax, dMagax = SSWYieldModelingTutorial.load_precomputed_completeness()"
   ]
  },
  {
   "cell_type": "markdown",
   "id": "d8cf2e38-c77b-4e27-8627-8363fe4dd437",
   "metadata": {},
   "source": [
    "3. We will use the same (final) coronagraph and observatory description and assumptions about local and exozodi brightness:"
   ]
  },
  {
   "cell_type": "code",
   "execution_count": null,
   "id": "4229a99b-7329-476f-be26-a002fa018534",
   "metadata": {},
   "outputs": [],
   "source": [
    "# we'll use a slightly more realistic coronagraph and observatory this time\n",
    "static_params = {\"lam\": 550*u.nm, # 550 nm central wavelength\n",
    "                 \"deltaLam\": 110*u.nm, # 20% bandpass\n",
    "                 \"D\": 6*u.m, # 6 meter telescope\n",
    "                 \"obsc\": 0.1, # Primary is 10% obscured\n",
    "                 \"tau\": 0.1, # The non-coronagraphic throughput\n",
    "                 \"QE\": 0.9, # 90% Quantum Efficiency\n",
    "                 # Zero-mag flux in photons cm^-2 nm^-1 s^-1 (photons omitted from unit):\n",
    "                 \"F0\": 12000/u.cm**2/u.nm/u.s, # Zero-magnitude flux (approximate)\n",
    "                 \"pixelScale\": 0.002*u.arcsec, # instantaneous field of view of each detector pixel\n",
    "                 # dark current in counts/second/pixel (counts and pixels ommited from unit):\n",
    "                 \"darkCurrent\": 0.001/u.s,\n",
    "                 \"readNoise\": 1e-6, # read noise in electrons/pixel/read\n",
    "                 \"texp\": 100*u.s, # single exposure time\n",
    "                 \"ppFac\": 0.1, # post-processing factor\n",
    "                }\n",
    "\n",
    "coronagraph = {\"tau_core\": 0.1, # point source throughput\n",
    "               \"tau_occ\": 0.2,  # extended source throughput\n",
    "               \"contrast\": 1e-10, # contrast (this represents a pretty good coronagraph)\n",
    "              }\n",
    "\n",
    "# but now we'll do all the targets at once\n",
    "target = {\"mag_star\":  targets['sy_vmag'].values, # apparent magnitude\n",
    "          \"zodi\": 23, # local zodi (units omitted as we're using this as an exponent)\n",
    "          \"exozodi\": 22, # exozodi (assume a bit brighter than local zodi)\n",
    "         }"
   ]
  },
  {
   "cell_type": "markdown",
   "id": "87039ae9-a794-4016-afe8-d1398bd375cb",
   "metadata": {},
   "source": [
    "4. Finally, we will assume a maximum total time of 1 year, an overhead rate of 10%, and a target SNR of 5:"
   ]
  },
  {
   "cell_type": "code",
   "execution_count": null,
   "id": "bdb289ae-e7b1-4b45-8b79-dcc50302c064",
   "metadata": {},
   "outputs": [],
   "source": [
    "t_max = 1*u.yr\n",
    "f_overhead = 0.1\n",
    "SNR = 5"
   ]
  },
  {
   "cell_type": "markdown",
   "id": "968f4afd-d55c-4692-a900-007a625e12cb",
   "metadata": {},
   "source": [
    "You may use any of the pre-written code in `SSWYieldModelingTutorial`, any of your own code from executing the tutorial, and any additional code you may need.  A few hints.  If using the method `SSWYieldModelingTutorial.Cp_Cb_M` note that the final input (the targeted limiting $\\Delta\\mathrm{mag}$) can be either a scalar value (the way we used it in the tutorial) or it can be an array of different values (in the latter case, the array must be of the same size as the `mag_star` parameter in the `target` dictionary input.  This allows you to compute integration times for your entire target list at the same time, with different $\\Delta\\mathrm{mag}$ values for each target. \n",
    "\n",
    "A few hints on possible strategies for solving this problem.  There has already been a lot of exploration of this in the literature. One approach, known as AYO or Altruistic Yield Optimization, seeks to remove integration time from one target and assign it to another in such a way as to produce a net increase in completeness.  The methodology is discussed in detail in this paper: https://arxiv.org/pdf/1409.5128 (see section 5.4.2).  A similar, but slightly different formulation, can be found in this paper: https://www.spiedigitallibrary.org/journals/Journal-of-Astronomical-Telescopes-Instruments-and-Systems/volume-6/issue-02/027001/Optimal-scheduling-of-exoplanet-direct-imaging-single-visit-observations-of/10.1117/1.JATIS.6.2.027001.full#_=_  (see section 2.4).\n",
    "\n",
    "You may find the optimization module of the Python `scipy` package useful here (https://docs.scipy.org/doc/scipy/reference/optimize.html).  Note that most of the methods available there refer to minimization whereas we formulated our problem as a mazimization. That's okay - maximization is the same as minimizing the negative of your objective function.\n",
    "\n",
    "Most importantly - you will want to figure out a systematic way of deciding which of your targets get observed, and which do not.  The constraints set up by the problem statement make it such that not all targets will be worth looking at. Be sure to visualize the data as you work on this - plots can be incredibly helpful in figuring out what is going on, and how changes in integration time impact changes in completeness."
   ]
  },
  {
   "cell_type": "code",
   "execution_count": null,
   "id": "be77ff87-a531-4a84-a420-3607f78259c5",
   "metadata": {},
   "outputs": [],
   "source": []
  },
  {
   "cell_type": "code",
   "execution_count": null,
   "id": "48f2d033-a0f6-4e0c-bd3b-601d78d09a26",
   "metadata": {},
   "outputs": [],
   "source": []
  },
  {
   "cell_type": "markdown",
   "id": "a7d79166-4ea3-49e7-a8fa-15b1cd5389dc",
   "metadata": {},
   "source": [
    "# Project 2: Observing Schedule\n",
    "\n",
    "In this project, our goal is to figure out when (and whether) we can schedule a set of planned observations to be consistent with an observatory's keepout map. The formal problem statement is as follows: given a set of $N$ targets, a maximum mission duration $t_\\mathrm{max}$, and a pre-computed set of integration times $\\{t_i\\}_{i=1}^N$ find an observing schedule consistent with a pre-computed keepout map. That is, for each target, find an observation start time $t_i^\\mathrm{start}$ such that the interval $[t_i^\\mathrm{start}, t_i^\\mathrm{start} +t_i]$ is fully available for that target in the keepout map.  The observing schedule cannot contain simultaneous observations of multiple targets (that is, there cannot be any overlaps in any of the observing intervals). Your algorithm should also identify any targets for which an observation is impossible (i.e., there is never an available time window long enough to accommodate a full observation for that target).\n",
    "\n",
    "For our input parameters, we will use many of the building blocks developed in the tutorial.\n",
    "\n",
    "1. We will use the HWO mission star list as our initial target list:"
   ]
  },
  {
   "cell_type": "code",
   "execution_count": null,
   "id": "7979631b-1808-4715-9981-212c34053dac",
   "metadata": {},
   "outputs": [],
   "source": [
    "targets = SSWYieldModelingTutorial.load_HWO_MissionStars()"
   ]
  },
  {
   "cell_type": "markdown",
   "id": "8fdc51ba-8055-4e97-adaf-1cfe09e5cb85",
   "metadata": {},
   "source": [
    "2. We will use the same (final) coronagraph and observatory description and assumptions about local and exozodi brightness to compute our integration times (to a fixed $\\Delta \\mathrm{mag}$ of 25 for each target):"
   ]
  },
  {
   "cell_type": "code",
   "execution_count": null,
   "id": "8ff56efe-0fb1-44ae-be5e-ee0c0f0da006",
   "metadata": {},
   "outputs": [],
   "source": [
    "# we'll use a slightly more realistic coronagraph and observatory this time\n",
    "static_params = {\"lam\": 550*u.nm, # 550 nm central wavelength\n",
    "                 \"deltaLam\": 110*u.nm, # 20% bandpass\n",
    "                 \"D\": 6*u.m, # 6 meter telescope\n",
    "                 \"obsc\": 0.1, # Primary is 10% obscured\n",
    "                 \"tau\": 0.1, # The non-coronagraphic throughput\n",
    "                 \"QE\": 0.9, # 90% Quantum Efficiency\n",
    "                 # Zero-mag flux in photons cm^-2 nm^-1 s^-1 (photons omitted from unit):\n",
    "                 \"F0\": 12000/u.cm**2/u.nm/u.s, # Zero-magnitude flux (approximate)\n",
    "                 \"pixelScale\": 0.002*u.arcsec, # instantaneous field of view of each detector pixel\n",
    "                 # dark current in counts/second/pixel (counts and pixels ommited from unit):\n",
    "                 \"darkCurrent\": 0.001/u.s,\n",
    "                 \"readNoise\": 1e-6, # read noise in electrons/pixel/read\n",
    "                 \"texp\": 100*u.s, # single exposure time\n",
    "                 \"ppFac\": 0.1, # post-processing factor\n",
    "                }\n",
    "\n",
    "coronagraph = {\"tau_core\": 0.1, # point source throughput\n",
    "               \"tau_occ\": 0.2,  # extended source throughput\n",
    "               \"contrast\": 1e-10, # contrast (this represents a pretty good coronagraph)\n",
    "              }\n",
    "\n",
    "# but now we'll do all the targets at once\n",
    "target = {\"mag_star\":  targets['sy_vmag'].values, # apparent magnitude\n",
    "          \"zodi\": 23, # local zodi (units omitted as we're using this as an exponent)\n",
    "          \"exozodi\": 22, # exozodi (assume a bit brighter than local zodi)\n",
    "         }\n",
    "\n",
    "C_p, C_b, M = SSWYieldModelingTutorial.Cp_Cb_M(static_params, coronagraph, target, 25)\n",
    "# total integration times for each target, including 10% overhead:\n",
    "t_i = SSWYieldModelingTutorial.calc_intTime(C_p, C_b, M, 5)*1.1"
   ]
  },
  {
   "cell_type": "markdown",
   "id": "ab9221e3-e64d-44a5-9039-5760e7963e63",
   "metadata": {},
   "source": [
    "3. We will use the same pre-computed keepout-map:"
   ]
  },
  {
   "cell_type": "code",
   "execution_count": null,
   "id": "8030ce2b-0d7e-4d9a-9ae7-54d164ab6e98",
   "metadata": {},
   "outputs": [],
   "source": [
    "koTimes, koMap, targNames = SSWYieldModelingTutorial.load_HWO_MissionStars_koMap()"
   ]
  },
  {
   "cell_type": "markdown",
   "id": "ba067f2a-fbd7-46f4-8682-6189e860e6ff",
   "metadata": {},
   "source": [
    "4. Finally, we will assume a total mission time of 5 years.  Note that our keepout map is only defined for 1 year.  You may assume that the target availability is exactly the same in the subsequent four years (i.e., the keepout map just repeats itself over and over again). "
   ]
  },
  {
   "cell_type": "markdown",
   "id": "ae004991-0853-420c-ad7f-bd7367c24043",
   "metadata": {},
   "source": [
    "You may use any of the pre-written code in `SSWYieldModelingTutorial`, any of your own code from executing the tutorial, and any additional code you may need.  \n",
    "\n",
    "A few hints on possible strategies for solving this problem.  There has already been a lot of exploration of this in the literature, much of it focused on various forms of what is known as the 'Traveling Salesman Problem' or TSP. One methodology is described in this paper: https://arxiv.org/pdf/0903.4915 (see section 2.3). Unsurprisingly, this specific problem is an example of a much broader class of scheduling problems.  For some discussion of one modern methodology for scheduling problem solving, see here: https://developers.google.com/optimization/scheduling\n",
    "\n",
    "Most importantly - you will want to initially determine which targets are fundamentally unobservable by the problem setup and constraints. For the remainder, you will need to figure out a systematic method for assigning observation starting times such that you can fit as many targets as possible into the five year span.  The constraints set up by the problem statement make it such that not every target is observable within five years. Be sure to visualize the data as you work on this - plots can be incredibly helpful in figuring out what your proposed schedule looks like, and how it interacts with the keepout map."
   ]
  },
  {
   "cell_type": "code",
   "execution_count": null,
   "id": "8fee1d86-f9a2-47d0-98a3-c1c1b32f9ae1",
   "metadata": {},
   "outputs": [],
   "source": []
  },
  {
   "cell_type": "code",
   "execution_count": null,
   "id": "350c5417-5a05-4c89-8e40-2bd306dc45fb",
   "metadata": {},
   "outputs": [],
   "source": []
  },
  {
   "cell_type": "code",
   "execution_count": null,
   "id": "3e0d5b5a-83ac-4a44-8183-dee64de03f63",
   "metadata": {},
   "outputs": [],
   "source": []
  },
  {
   "cell_type": "markdown",
   "id": "eb8e7c85-e0c5-4eb2-8a8b-d939bb6af66f",
   "metadata": {},
   "source": [
    "# Bonus: Combine Projects 1 and 2\n",
    "\n",
    "Can you update your time allocation optimization from project one to be aware of the keepout constraints from project 2?  If so, we may have a job for you."
   ]
  },
  {
   "cell_type": "code",
   "execution_count": null,
   "id": "eb673b7e-25d9-4fd9-8481-69aafcdb2c9f",
   "metadata": {},
   "outputs": [],
   "source": []
  }
 ],
 "metadata": {
  "kernelspec": {
   "display_name": "Python 3 (ipykernel)",
   "language": "python",
   "name": "python3"
  },
  "language_info": {
   "codemirror_mode": {
    "name": "ipython",
    "version": 3
   },
   "file_extension": ".py",
   "mimetype": "text/x-python",
   "name": "python",
   "nbconvert_exporter": "python",
   "pygments_lexer": "ipython3",
   "version": "3.11.7"
  }
 },
 "nbformat": 4,
 "nbformat_minor": 5
}
